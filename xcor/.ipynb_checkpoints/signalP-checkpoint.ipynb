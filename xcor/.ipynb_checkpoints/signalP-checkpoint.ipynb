{
 "cells": [
  {
   "cell_type": "code",
   "execution_count": 1,
   "id": "41594a53-7485-4d5f-809c-d338e7035ed5",
   "metadata": {},
   "outputs": [],
   "source": [
    "import os\n",
    "from pathlib import Path\n",
    "\n",
    "import librosa\n",
    "import numpy as np\n",
    "import matplotlib.pyplot as plt\n",
    "\n",
    "from scipy.io import wavfile\n",
    "from scipy.fft import fft, fftfreq"
   ]
  },
  {
   "cell_type": "code",
   "execution_count": 2,
   "id": "cf27efe0-bfbd-4c76-98bf-feae9b66bc6d",
   "metadata": {},
   "outputs": [
    {
     "ename": "NameError",
     "evalue": "name '__file__' is not defined",
     "output_type": "error",
     "traceback": [
      "\u001b[31m---------------------------------------------------------------------------\u001b[39m",
      "\u001b[31mNameError\u001b[39m                                 Traceback (most recent call last)",
      "\u001b[36mCell\u001b[39m\u001b[36m \u001b[39m\u001b[32mIn[2]\u001b[39m\u001b[32m, line 1\u001b[39m\n\u001b[32m----> \u001b[39m\u001b[32m1\u001b[39m PARENT_DIR = Path(\u001b[34;43m__file__\u001b[39;49m).resolve().parent\n\u001b[32m      2\u001b[39m t11_a1_audio = os.path.join(PARENT_DIR, \u001b[33m'\u001b[39m\u001b[33mt11_a1_2025-09-24_16_51 (online-audio-converter.com).wav\u001b[39m\u001b[33m'\u001b[39m)\n\u001b[32m      3\u001b[39m t11_e1_audio = os.path.join(PARENT_DIR, \u001b[33m'\u001b[39m\u001b[33mt11_e1_2025-09-24_16_51 (online-audio-converter.com).wav\u001b[39m\u001b[33m'\u001b[39m)\n",
      "\u001b[31mNameError\u001b[39m: name '__file__' is not defined"
     ]
    }
   ],
   "source": [
    "PARENT_DIR = Path('__file__').resolve().parent\n",
    "t11_a1_audio = os.path.join(PARENT_DIR, 't11_a1_2025-09-24_16_51 (online-audio-converter.com).wav')\n",
    "t11_e1_audio = os.path.join(PARENT_DIR, 't11_e1_2025-09-24_16_51 (online-audio-converter.com).wav')\n",
    "t11_s1_audio = os.path.join(PARENT_DIR, 't11_s1_2025-09-24_16_51 (online-audio-converter.com).wav')\n"
   ]
  },
  {
   "cell_type": "code",
   "execution_count": null,
   "id": "4400a3d6-2337-4e72-a46b-9a6f72a2d427",
   "metadata": {},
   "outputs": [],
   "source": [
    "def plot_audio_analysis(audio_path):\n",
    "    # Load audio file\n",
    "    y, sr = librosa.load(audio_path, sr=None)  # y = waveform, sr = sample rate\n",
    "    duration = len(y) / sr\n",
    "    time = np.linspace(0, duration, len(y))\n",
    "\n",
    "    # FFT\n",
    "    N = len(y)\n",
    "    yf = fft(y)\n",
    "    xf = fftfreq(N, 1 / sr)[:N // 2]\n",
    "    spectrum = np.abs(yf[:N // 2])\n",
    "\n",
    "    # Spectrogram\n",
    "    S = librosa.stft(y)\n",
    "    S_db = librosa.amplitude_to_db(np.abs(S), ref=np.max)\n",
    "\n",
    "    # Plot\n",
    "    fig, axs = plt.subplots(3, 1, figsize=(12, 10))\n",
    "\n",
    "    # Waveform\n",
    "    axs[0].plot(time, y, color='blue')\n",
    "    axs[0].set_title('Waveform')\n",
    "    axs[0].set_xlabel('Time [s]')\n",
    "    axs[0].set_ylabel('Amplitude')\n",
    "\n",
    "    # FFT Spectrum\n",
    "    axs[1].plot(xf, spectrum, color='green')\n",
    "    axs[1].set_title('FFT Spectrum')\n",
    "    axs[1].set_xlabel('Frequency [Hz]')\n",
    "    axs[1].set_ylabel('Magnitude')\n",
    "    axs[1].set_xlim(0, sr / 2)  # Limit to Nyquist\n",
    "\n",
    "    # Spectrogram\n",
    "    img = librosa.display.specshow(S_db, sr=sr, x_axis='time', y_axis='log', ax=axs[2], cmap='gray_r')\n",
    "    axs[2].set_title('Spectrogram (dB)')\n",
    "    #fig.colorbar(img, ax=axs[2], format='%+2.0f dB')\n",
    "\n",
    "    plt.tight_layout()\n",
    "    plt.show()"
   ]
  },
  {
   "cell_type": "code",
   "execution_count": null,
   "id": "e4248c7d-0afc-42bc-beea-e358c5273dcf",
   "metadata": {},
   "outputs": [],
   "source": [
    "plot_audio_analysis(t11_e1_audio)"
   ]
  }
 ],
 "metadata": {
  "kernelspec": {
   "display_name": "Python 3 (ipykernel)",
   "language": "python",
   "name": "python3"
  },
  "language_info": {
   "codemirror_mode": {
    "name": "ipython",
    "version": 3
   },
   "file_extension": ".py",
   "mimetype": "text/x-python",
   "name": "python",
   "nbconvert_exporter": "python",
   "pygments_lexer": "ipython3",
   "version": "3.13.7"
  }
 },
 "nbformat": 4,
 "nbformat_minor": 5
}
