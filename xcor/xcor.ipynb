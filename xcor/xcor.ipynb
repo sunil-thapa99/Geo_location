{
 "cells": [
  {
   "cell_type": "code",
   "execution_count": 53,
   "id": "58cd5792",
   "metadata": {},
   "outputs": [
    {
     "ename": "SyntaxError",
     "evalue": "(unicode error) 'unicodeescape' codec can't decode bytes in position 4-6: truncated \\xXX escape (2171369491.py, line 56)",
     "output_type": "error",
     "traceback": [
      "\u001b[1;36m  Cell \u001b[1;32mIn[53], line 56\u001b[1;36m\u001b[0m\n\u001b[1;33m    plot_waveforms_from_directory('xcor\\xcor.ipynb')\u001b[0m\n\u001b[1;37m                                  ^\u001b[0m\n\u001b[1;31mSyntaxError\u001b[0m\u001b[1;31m:\u001b[0m (unicode error) 'unicodeescape' codec can't decode bytes in position 4-6: truncated \\xXX escape\n"
     ]
    }
   ],
   "source": [
    "import matplotlib.pyplot as plt\n",
    "import numpy as np\n",
    "import wave\n",
    "import glob\n",
    "import os\n",
    "\n",
    "def plot_waveforms_from_directory(directory='.'):     \n",
    "    search_path = os.path.join(directory, '*.wav')\n",
    "    wav_files = glob.glob(search_path)\n",
    "    \n",
    "    if not wav_files:\n",
    "        print(f\"No .wav files found in directory: {os.path.abspath(directory)}\")\n",
    "        return\n",
    "\n",
    "    plt.figure(figsize=(12, 6))\n",
    "    \n",
    "    # 2. Iterate through each file, read data, and plot\n",
    "    for file_path in wav_files:\n",
    "        try:\n",
    "            # Open the WAV file\n",
    "            with wave.open(file_path, 'rb') as raw:\n",
    "                # Get audio parameters\n",
    "                n_frames = raw.getnframes()\n",
    "                f_rate = raw.getframerate()\n",
    "                \n",
    "                # Read all frames and convert to a numpy array\n",
    "                signal = raw.readframes(n_frames)\n",
    "                signal_array = np.frombuffer(signal, dtype=np.int16)\n",
    "                \n",
    "                # Create the time vector (x-axis in seconds)\n",
    "                time = np.linspace(0, n_frames / f_rate, num=n_frames)\n",
    "                \n",
    "                # Plot the waveform\n",
    "                # Normalize the signal for better visualization if needed, \n",
    "                # or plot raw amplitude. We'll plot raw amplitude here.\n",
    "                plt.plot(time, signal_array, label=os.path.basename(file_path))\n",
    "\n",
    "        except wave.Error as e:\n",
    "            print(f\"Error processing {os.path.basename(file_path)}: {e}\")\n",
    "            continue\n",
    "        except Exception as e:\n",
    "            print(f\"An unexpected error occurred with {os.path.basename(file_path)}: {e}\")\n",
    "            continue\n",
    "\n",
    "    # 3. Customize and display the plot\n",
    "    plt.title(\"Waveforms of Multiple WAV Files\")\n",
    "    plt.xlabel(\"Time (s)\")\n",
    "    plt.ylabel(\"Amplitude\")\n",
    "    plt.legend()\n",
    "    plt.grid(True)\n",
    "    plt.tight_layout()\n",
    "    plt.show()\n",
    "\n",
    "if __name__ == \"__main__\":\n",
    "    # Assuming the script and the .wav files are in the same directory\n",
    "    plot_waveforms_from_directory('xcor\\xcor.ipynb')"
   ]
  }
 ],
 "metadata": {
  "kernelspec": {
   "display_name": "base",
   "language": "python",
   "name": "python3"
  },
  "language_info": {
   "codemirror_mode": {
    "name": "ipython",
    "version": 3
   },
   "file_extension": ".py",
   "mimetype": "text/x-python",
   "name": "python",
   "nbconvert_exporter": "python",
   "pygments_lexer": "ipython3",
   "version": "3.12.7"
  }
 },
 "nbformat": 4,
 "nbformat_minor": 5
}
