{
 "cells": [
  {
   "cell_type": "code",
   "execution_count": null,
   "id": "febfd3d8",
   "metadata": {},
   "outputs": [],
   "source": [
    "import numpy as np\n",
    "import soundfile as sf\n",
    "import matplotlib.pyplot as plt\n",
    "from pathlib import Path\n",
    "\n",
    "# List your input files here (these may be MP4/M4A containers with .wav names)\n",
    "files = [\n",
    "    't11_a1_2025-09-24_16_51.wav',\n",
    "    't11_e1_2025-09-24_16_51.wav',\n",
    "    't11_s1_2025-09-24_16_51.wav',\n",
    "]\n",
    "\n",
    "# Keep cells short: actual conversion happens in the next cell\n",
    "print('Files to process:', files)\n"
   ]
  },
  {
   "cell_type": "code",
   "execution_count": null,
   "id": "cde0baec",
   "metadata": {},
   "outputs": [
    {
     "ename": "SyntaxError",
     "evalue": "invalid decimal literal (2102613940.py, line 1)",
     "output_type": "error",
     "traceback": [
      "\u001b[1;36m  Cell \u001b[1;32mIn[48], line 1\u001b[1;36m\u001b[0m\n\u001b[1;33m    { \"cell_type\": \"code\", \"metadata\": { \"language\": \"python\" }, \"source\": [ \"from pathlib import Path\", \"import shutil\", \"import subprocess\", \"import numpy as np\", \"import matplotlib.pyplot as plt\", \"import warnings\", \"\", \"# Ensure files is defined (from your earlier cell). If not, set them here explicitly:\", \"try:\", \" files # using existing files variable from the notebook\", \"except NameError:\", \" files = [\", \" 't11_a1_2025-09-24_16_51.wav',\", \" 't11_e1_2025-09-24_16_51.wav',\", \" 't11_s1_2025-09-24_16_51.wav',\", \" ]\", \"\", \"# Check ffmpeg availability\", \"if shutil.which('ffmpeg') is None:\", \" print('ffmpeg not found on PATH. Install it and add to PATH, or use conda:')\", \" print(' conda install -c conda-forge ffmpeg')\", \" print('Or on Windows use Chocolatey: choco install ffmpeg -y (if you have choco)')\", \" print('Or download a static build from https://ffmpeg.org and add ffmpeg.exe to your PATH.')\", \" raise SystemExit('ffmpeg is required for reliable conversion of MP4/M4A to WAV')\", \"\", \"out_wavs = []\", \"for fn in files:\", \" p = Path(fn)\", \" if not p.exists():\", \" p = Path('.') / fn\", \" if not p.exists():\", \" warnings.warn(f'File not found: {fn}')\", \" continue\", \"\", \" out = p.with_suffix('.converted.wav')\", \" # Use ffmpeg to extract/convert audio to a mono 44.1 kHz WAV (pcm_s16le) for compatibility\", \" cmd = ['ffmpeg', '-y', '-i', str(p), '-vn', '-ac', '1', '-ar', '44100', '-acodec', 'pcm_s16le', str(out)]\", \" proc = subprocess.run(cmd, stdout=subprocess.PIPE, stderr=subprocess.PIPE, text=True)\", \" if proc.returncode != 0:\", \" warnings.warn(f'ffmpeg failed for {p.name}: {proc.stderr.splitlines()[-1] if proc.stderr else proc.returncode}')\", \" continue\", \"\", \" # Load the converted WAV with soundfile if available, else scipy\", \" try:\", \" import soundfile as sf\", \" arr, sr = sf.read(str(out))\", \" arr = np.asarray(arr, dtype=np.float32)\", \" except Exception:\", \" try:\", \" from scipy.io import wavfile\", \" sr_read, data = wavfile.read(str(out))\", \" sr = int(sr_read)\", \" arr = np.asarray(data)\", \" if np.issubdtype(arr.dtype, np.integer):\", \" arr = arr.astype(np.float32) / np.iinfo(arr.dtype).max\", \" except Exception as e:\", \" warnings.warn(f'Failed to load converted WAV {out}: {e}')\", \" continue\", \"\", \" # Ensure mono\", \" if arr.ndim > 1:\", \" arr = arr.mean(axis=1)\", \"\", \" out_wavs.append({'orig': str(p), 'wav': str(out), 'arr': arr, 'sr': int(sr)})\", \" print(f'Converted {p.name} -> {out.name} sr={sr} samples={len(arr)} duration={len(arr)/sr:.2f}s')\", \"\", \"# Plot converted files\", \"if not out_wavs:\", \" print('No audio available to plot.')\", \"else:\", \" n = len(out_wavs)\", \" plt.figure(figsize=(10, 2.6 * n))\", \" for i, info in enumerate(out_wavs, start=1):\", \" arr = info['arr']\", \" sr = info['sr']\", \" t = np.arange(len(arr)) / sr\", \" ax = plt.subplot(n, 1, i)\", \" ax.plot(t, arr, linewidth=0.6)\", \" ax.set_xlim(0, t[-1])\", \" ax.set_ylabel('Amplitude')\", \" ax.set_title(f\"{Path(info['orig']).name} -> {Path(info['wav']).name} sr={sr}Hz {t[-1]:.2f}s\")\", \" if i < n:\", \" ax.set_xticklabels([])\", \" else:\", \" ax.set_xlabel('Time (s)')\", \" plt.tight_layout()\", \" plt.show()\", \"\", \"# Export arrays into notebook globals for later use (safe names)\", \"for info in out_wavs:\", \" var = Path(info['wav']).stem.replace('-', '_')\", \" globals()[var] = info['arr']\", \" globals()[f\"{var}_sr\"] = info['sr']\", \"\", \"print('Done. Converted WAVs are available and plotted. Variables created for each .converted.wav stem (and _sr).')\" ] }\u001b[0m\n\u001b[1;37m                                                                                                                                                                                                                                                                                                                                                                                                                                                                                                                                                                                                                                                                                                                                                                                                                                                                                                                                                                                                                                                                                                                                                                                                                                                                                                                                                                                                                                                                                                                                                                                                                                                                                                                                                                                                                                                                                                                                                                                                                                                                                                                                                                                                                                                                                                                                                                                                                                                                                                                                                                                                                                                                                                                                                                                                                                                                                                                                                                                                                                                                                                      ^\u001b[0m\n\u001b[1;31mSyntaxError\u001b[0m\u001b[1;31m:\u001b[0m invalid decimal literal\n"
     ]
    }
   ],
   "source": [
    "from pathlib import Path\n",
    "import subprocess\n",
    "import shutil\n",
    "import soundfile as sf\n",
    "import numpy as np\n",
    "import warnings\n",
    "import os\n",
    "\n",
    "# Convert files to guaranteed PCM WAVs and validate the output\n",
    "out_wavs = []\n",
    "\n",
    "if shutil.which('ffmpeg') is None:\n",
    "    warnings.warn('ffmpeg not found on PATH. Please install ffmpeg and add it to PATH for reliable conversion.')\n",
    "else:\n",
    "    print('ffmpeg found at', shutil.which('ffmpeg'))\n",
    "\n",
    "for fn in files:\n",
    "    p = Path(fn)\n",
    "    if not p.exists():\n",
    "        p = Path('.') / fn\n",
    "        if not p.exists():\n",
    "            warnings.warn(f'File not found: {fn}')\n",
    "            continue\n",
    "    out = p.with_suffix('.converted.wav')\n",
    "\n",
    "    # Use ffmpeg to generate a true PCM 16-bit WAV (mono, 44.1 kHz)\n",
    "    cmd = [\n",
    "        'ffmpeg', '-y', '-i', str(p),\n",
    "        '-vn', '-ac', '1', '-ar', '44100',\n",
    "        '-acodec', 'pcm_s16le',\n",
    "        str(out)\n",
    "    ]\n",
    "    proc = subprocess.run(cmd, stdout=subprocess.PIPE, stderr=subprocess.PIPE, text=True)\n",
    "    if proc.returncode != 0:\n",
    "        warnings.warn(f'ffmpeg failed for {p.name}: {proc.stderr.splitlines()[-1] if proc.stderr else proc.returncode}')\n",
    "        continue\n",
    "\n",
    "    # Quick header check to ensure it's a WAV\n",
    "    try:\n",
    "        with open(out, 'rb') as fh:\n",
    "            hdr = fh.read(12)\n",
    "        if not (hdr.startswith(b'RIFF') and b'WAVE' in hdr):\n",
    "            warnings.warn(f'Converted file {out.name} does not look like a WAV (bad header).')\n",
    "            continue\n",
    "    except Exception as e:\n",
    "        warnings.warn(f'Could not read converted file header {out}: {e}')\n",
    "        continue\n",
    "\n",
    "    # Read using soundfile to validate format and load data\n",
    "    try:\n",
    "        info = sf.info(str(out))\n",
    "        data, sr = sf.read(str(out), dtype='float32')\n",
    "        print(f'Converted {p.name} -> {out.name} sr={info.samplerate} channels={info.channels} subtype={info.subtype}')\n",
    "    except Exception as e:\n",
    "        warnings.warn(f'Failed to read converted WAV {out}: {e}')\n",
    "        continue\n",
    "\n",
    "    if data.ndim > 1:\n",
    "        data = data.mean(axis=1)\n",
    "\n",
    "    out_wavs.append({'orig': str(p), 'wav': str(out), 'arr': data, 'sr': int(sr)})\n",
    "\n",
    "print(f'Conversion finished. {len(out_wavs)} files converted and validated.')\n"
   ]
  },
  {
   "cell_type": "code",
   "execution_count": null,
   "id": "e75d7e44",
   "metadata": {},
   "outputs": [
    {
     "ename": "FileNotFoundError",
     "evalue": "[WinError 2] The system cannot find the file specified",
     "output_type": "error",
     "traceback": [
      "\u001b[1;31m---------------------------------------------------------------------------\u001b[0m",
      "\u001b[1;31mFileNotFoundError\u001b[0m                         Traceback (most recent call last)",
      "Cell \u001b[1;32mIn[44], line 19\u001b[0m\n\u001b[0;32m     16\u001b[0m \u001b[38;5;28;01mfor\u001b[39;00m f \u001b[38;5;129;01min\u001b[39;00m files:\n\u001b[0;32m     17\u001b[0m     \u001b[38;5;28;01mif\u001b[39;00m Path(f)\u001b[38;5;241m.\u001b[39mexists():\n\u001b[0;32m     18\u001b[0m         \u001b[38;5;66;03m# Convert MP4/M4A container to real WAV\u001b[39;00m\n\u001b[1;32m---> 19\u001b[0m         audio \u001b[38;5;241m=\u001b[39m AudioSegment\u001b[38;5;241m.\u001b[39mfrom_file(f, \u001b[38;5;28mformat\u001b[39m\u001b[38;5;241m=\u001b[39m\u001b[38;5;124m\"\u001b[39m\u001b[38;5;124mmp4\u001b[39m\u001b[38;5;124m\"\u001b[39m)  \u001b[38;5;66;03m# original is mp4/m4a\u001b[39;00m\n\u001b[0;32m     20\u001b[0m         wav_file \u001b[38;5;241m=\u001b[39m \u001b[38;5;124mf\u001b[39m\u001b[38;5;124m\"\u001b[39m\u001b[38;5;124mconverted_\u001b[39m\u001b[38;5;132;01m{\u001b[39;00mPath(f)\u001b[38;5;241m.\u001b[39mstem\u001b[38;5;132;01m}\u001b[39;00m\u001b[38;5;124m.wav\u001b[39m\u001b[38;5;124m\"\u001b[39m\n\u001b[0;32m     21\u001b[0m         audio\u001b[38;5;241m.\u001b[39mexport(wav_file, \u001b[38;5;28mformat\u001b[39m\u001b[38;5;241m=\u001b[39m\u001b[38;5;124m\"\u001b[39m\u001b[38;5;124mwav\u001b[39m\u001b[38;5;124m\"\u001b[39m)\n",
      "File \u001b[1;32mc:\\Users\\acsch\\anaconda3\\Lib\\site-packages\\pydub\\audio_segment.py:728\u001b[0m, in \u001b[0;36mAudioSegment.from_file\u001b[1;34m(cls, file, format, codec, parameters, start_second, duration, **kwargs)\u001b[0m\n\u001b[0;32m    726\u001b[0m     info \u001b[38;5;241m=\u001b[39m \u001b[38;5;28;01mNone\u001b[39;00m\n\u001b[0;32m    727\u001b[0m \u001b[38;5;28;01melse\u001b[39;00m:\n\u001b[1;32m--> 728\u001b[0m     info \u001b[38;5;241m=\u001b[39m mediainfo_json(orig_file, read_ahead_limit\u001b[38;5;241m=\u001b[39mread_ahead_limit)\n\u001b[0;32m    729\u001b[0m \u001b[38;5;28;01mif\u001b[39;00m info:\n\u001b[0;32m    730\u001b[0m     audio_streams \u001b[38;5;241m=\u001b[39m [x \u001b[38;5;28;01mfor\u001b[39;00m x \u001b[38;5;129;01min\u001b[39;00m info[\u001b[38;5;124m'\u001b[39m\u001b[38;5;124mstreams\u001b[39m\u001b[38;5;124m'\u001b[39m]\n\u001b[0;32m    731\u001b[0m                      \u001b[38;5;28;01mif\u001b[39;00m x[\u001b[38;5;124m'\u001b[39m\u001b[38;5;124mcodec_type\u001b[39m\u001b[38;5;124m'\u001b[39m] \u001b[38;5;241m==\u001b[39m \u001b[38;5;124m'\u001b[39m\u001b[38;5;124maudio\u001b[39m\u001b[38;5;124m'\u001b[39m]\n",
      "File \u001b[1;32mc:\\Users\\acsch\\anaconda3\\Lib\\site-packages\\pydub\\utils.py:274\u001b[0m, in \u001b[0;36mmediainfo_json\u001b[1;34m(filepath, read_ahead_limit)\u001b[0m\n\u001b[0;32m    271\u001b[0m         file\u001b[38;5;241m.\u001b[39mclose()\n\u001b[0;32m    273\u001b[0m command \u001b[38;5;241m=\u001b[39m [prober, \u001b[38;5;124m'\u001b[39m\u001b[38;5;124m-of\u001b[39m\u001b[38;5;124m'\u001b[39m, \u001b[38;5;124m'\u001b[39m\u001b[38;5;124mjson\u001b[39m\u001b[38;5;124m'\u001b[39m] \u001b[38;5;241m+\u001b[39m command_args\n\u001b[1;32m--> 274\u001b[0m res \u001b[38;5;241m=\u001b[39m Popen(command, stdin\u001b[38;5;241m=\u001b[39mstdin_parameter, stdout\u001b[38;5;241m=\u001b[39mPIPE, stderr\u001b[38;5;241m=\u001b[39mPIPE)\n\u001b[0;32m    275\u001b[0m output, stderr \u001b[38;5;241m=\u001b[39m res\u001b[38;5;241m.\u001b[39mcommunicate(\u001b[38;5;28minput\u001b[39m\u001b[38;5;241m=\u001b[39mstdin_data)\n\u001b[0;32m    276\u001b[0m output \u001b[38;5;241m=\u001b[39m output\u001b[38;5;241m.\u001b[39mdecode(\u001b[38;5;124m\"\u001b[39m\u001b[38;5;124mutf-8\u001b[39m\u001b[38;5;124m\"\u001b[39m, \u001b[38;5;124m'\u001b[39m\u001b[38;5;124mignore\u001b[39m\u001b[38;5;124m'\u001b[39m)\n",
      "File \u001b[1;32mc:\\Users\\acsch\\anaconda3\\Lib\\subprocess.py:1026\u001b[0m, in \u001b[0;36mPopen.__init__\u001b[1;34m(self, args, bufsize, executable, stdin, stdout, stderr, preexec_fn, close_fds, shell, cwd, env, universal_newlines, startupinfo, creationflags, restore_signals, start_new_session, pass_fds, user, group, extra_groups, encoding, errors, text, umask, pipesize, process_group)\u001b[0m\n\u001b[0;32m   1022\u001b[0m         \u001b[38;5;28;01mif\u001b[39;00m \u001b[38;5;28mself\u001b[39m\u001b[38;5;241m.\u001b[39mtext_mode:\n\u001b[0;32m   1023\u001b[0m             \u001b[38;5;28mself\u001b[39m\u001b[38;5;241m.\u001b[39mstderr \u001b[38;5;241m=\u001b[39m io\u001b[38;5;241m.\u001b[39mTextIOWrapper(\u001b[38;5;28mself\u001b[39m\u001b[38;5;241m.\u001b[39mstderr,\n\u001b[0;32m   1024\u001b[0m                     encoding\u001b[38;5;241m=\u001b[39mencoding, errors\u001b[38;5;241m=\u001b[39merrors)\n\u001b[1;32m-> 1026\u001b[0m     \u001b[38;5;28mself\u001b[39m\u001b[38;5;241m.\u001b[39m_execute_child(args, executable, preexec_fn, close_fds,\n\u001b[0;32m   1027\u001b[0m                         pass_fds, cwd, env,\n\u001b[0;32m   1028\u001b[0m                         startupinfo, creationflags, shell,\n\u001b[0;32m   1029\u001b[0m                         p2cread, p2cwrite,\n\u001b[0;32m   1030\u001b[0m                         c2pread, c2pwrite,\n\u001b[0;32m   1031\u001b[0m                         errread, errwrite,\n\u001b[0;32m   1032\u001b[0m                         restore_signals,\n\u001b[0;32m   1033\u001b[0m                         gid, gids, uid, umask,\n\u001b[0;32m   1034\u001b[0m                         start_new_session, process_group)\n\u001b[0;32m   1035\u001b[0m \u001b[38;5;28;01mexcept\u001b[39;00m:\n\u001b[0;32m   1036\u001b[0m     \u001b[38;5;66;03m# Cleanup if the child failed starting.\u001b[39;00m\n\u001b[0;32m   1037\u001b[0m     \u001b[38;5;28;01mfor\u001b[39;00m f \u001b[38;5;129;01min\u001b[39;00m \u001b[38;5;28mfilter\u001b[39m(\u001b[38;5;28;01mNone\u001b[39;00m, (\u001b[38;5;28mself\u001b[39m\u001b[38;5;241m.\u001b[39mstdin, \u001b[38;5;28mself\u001b[39m\u001b[38;5;241m.\u001b[39mstdout, \u001b[38;5;28mself\u001b[39m\u001b[38;5;241m.\u001b[39mstderr)):\n",
      "File \u001b[1;32mc:\\Users\\acsch\\anaconda3\\Lib\\subprocess.py:1538\u001b[0m, in \u001b[0;36mPopen._execute_child\u001b[1;34m(self, args, executable, preexec_fn, close_fds, pass_fds, cwd, env, startupinfo, creationflags, shell, p2cread, p2cwrite, c2pread, c2pwrite, errread, errwrite, unused_restore_signals, unused_gid, unused_gids, unused_uid, unused_umask, unused_start_new_session, unused_process_group)\u001b[0m\n\u001b[0;32m   1536\u001b[0m \u001b[38;5;66;03m# Start the process\u001b[39;00m\n\u001b[0;32m   1537\u001b[0m \u001b[38;5;28;01mtry\u001b[39;00m:\n\u001b[1;32m-> 1538\u001b[0m     hp, ht, pid, tid \u001b[38;5;241m=\u001b[39m _winapi\u001b[38;5;241m.\u001b[39mCreateProcess(executable, args,\n\u001b[0;32m   1539\u001b[0m                              \u001b[38;5;66;03m# no special security\u001b[39;00m\n\u001b[0;32m   1540\u001b[0m                              \u001b[38;5;28;01mNone\u001b[39;00m, \u001b[38;5;28;01mNone\u001b[39;00m,\n\u001b[0;32m   1541\u001b[0m                              \u001b[38;5;28mint\u001b[39m(\u001b[38;5;129;01mnot\u001b[39;00m close_fds),\n\u001b[0;32m   1542\u001b[0m                              creationflags,\n\u001b[0;32m   1543\u001b[0m                              env,\n\u001b[0;32m   1544\u001b[0m                              cwd,\n\u001b[0;32m   1545\u001b[0m                              startupinfo)\n\u001b[0;32m   1546\u001b[0m \u001b[38;5;28;01mfinally\u001b[39;00m:\n\u001b[0;32m   1547\u001b[0m     \u001b[38;5;66;03m# Child is launched. Close the parent's copy of those pipe\u001b[39;00m\n\u001b[0;32m   1548\u001b[0m     \u001b[38;5;66;03m# handles that only the child should have open.  You need\u001b[39;00m\n\u001b[1;32m   (...)\u001b[0m\n\u001b[0;32m   1551\u001b[0m     \u001b[38;5;66;03m# pipe will not close when the child process exits and the\u001b[39;00m\n\u001b[0;32m   1552\u001b[0m     \u001b[38;5;66;03m# ReadFile will hang.\u001b[39;00m\n\u001b[0;32m   1553\u001b[0m     \u001b[38;5;28mself\u001b[39m\u001b[38;5;241m.\u001b[39m_close_pipe_fds(p2cread, p2cwrite,\n\u001b[0;32m   1554\u001b[0m                          c2pread, c2pwrite,\n\u001b[0;32m   1555\u001b[0m                          errread, errwrite)\n",
      "\u001b[1;31mFileNotFoundError\u001b[0m: [WinError 2] The system cannot find the file specified"
     ]
    }
   ],
   "source": [
    "import matplotlib.pyplot as plt\n",
    "from pathlib import Path\n",
    "import numpy as np\n",
    "\n",
    "if not out_wavs:\n",
    "    print('No converted WAVs available to plot.')\n",
    "else:\n",
    "    n = len(out_wavs)\n",
    "    plt.figure(figsize=(10, 2.6 * n))\n",
    "    for i, info in enumerate(out_wavs, start=1):\n",
    "        arr = info['arr']\n",
    "        sr = info['sr']\n",
    "        t = np.arange(len(arr)) / sr\n",
    "        ax = plt.subplot(n, 1, i)\n",
    "        ax.plot(t, arr, linewidth=0.6)\n",
    "        ax.set_xlim(0, t[-1])\n",
    "        ax.set_ylabel('Amplitude')\n",
    "        ax.set_title(f\"{Path(info['orig']).name} -> {Path(info['wav']).name} sr={sr}Hz {t[-1]:.2f}s\")\n",
    "        if i < n:\n",
    "            ax.set_xticklabels([])\n",
    "        else:\n",
    "            ax.set_xlabel('Time (s)')\n",
    "    plt.tight_layout()\n",
    "    plt.show()\n",
    "\n",
    "# Export arrays into notebook globals for later use\n",
    "for info in out_wavs:\n",
    "    var = Path(info['wav']).stem.replace('-', '_')\n",
    "    globals()[var] = info['arr']\n",
    "    globals()[f\"{var}_sr\"] = info['sr']\n",
    "\n",
    "print('Done. Converted WAVs are available and plotted. Variables created for each .converted.wav stem (and _sr).')\n"
   ]
  }
 ],
 "metadata": {
  "kernelspec": {
   "display_name": "base",
   "language": "python",
   "name": "python3"
  },
  "language_info": {
   "codemirror_mode": {
    "name": "ipython",
    "version": 3
   },
   "file_extension": ".py",
   "mimetype": "text/x-python",
   "name": "python",
   "nbconvert_exporter": "python",
   "pygments_lexer": "ipython3",
   "version": "3.12.7"
  }
 },
 "nbformat": 4,
 "nbformat_minor": 5
}
