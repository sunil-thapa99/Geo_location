{
 "cells": [
  {
   "cell_type": "code",
   "execution_count": 7,
   "id": "6b77760e",
   "metadata": {},
   "outputs": [],
   "source": [
    "import firebase_admin\n",
    "from pathlib import Path\n",
    "from firebase_admin import credentials\n",
    "from firebase_admin import firestore\n",
    "import warnings\n",
    "import os\n",
    "warnings.filterwarnings('ignore')"
   ]
  },
  {
   "cell_type": "code",
   "execution_count": 8,
   "id": "eab532de",
   "metadata": {},
   "outputs": [
    {
     "name": "stdout",
     "output_type": "stream",
     "text": [
      "C:\\Users\\encaa\\OneDrive\\Desktop\\Mac_Geo\\Geo_location\\xcor\n"
     ]
    }
   ],
   "source": [
    "# Use the path to your service account key file\n",
    "PARENT_DIR = Path('__file__').resolve().parent\n",
    "print(PARENT_DIR)\n"
   ]
  },
  {
   "cell_type": "code",
   "execution_count": null,
   "id": "e18bc839",
   "metadata": {
    "scrolled": true
   },
   "outputs": [],
   "source": [
    "cred = credentials.Certificate(os.path.join(PARENT_DIR,\"serviceAccountKey.json\"))\n",
    "\n",
    "# Initialize the app with your project's credentials\n",
    "# You can also specify the database URL if it's not the default\n",
    "firebase_admin.initialize_app(cred, {\n",
    "    'projectId': 'geolocation-app-b549e',\n",
    "})\n",
    "\n",
    "# Now you can use the Firebase services\n",
    "# For example, to access Firestore:\n",
    "db = firestore.client()"
   ]
  },
  {
   "cell_type": "code",
   "execution_count": 10,
   "id": "ce853d06",
   "metadata": {},
   "outputs": [],
   "source": [
    "def get_all_sessions():\n",
    "    \"\"\"Retrieve all session data from Firestore\"\"\"\n",
    "    if not db:\n",
    "        print(\"Firebase not initialized. Please check your configuration.\")\n",
    "        return None\n",
    "    \n",
    "    try:\n",
    "        # Get all documents from the 'locations' collection\n",
    "        locations_ref = db.collection('sessions')\n",
    "        docs = locations_ref.stream()\n",
    "        \n",
    "        locations_data = []\n",
    "        for doc in docs:\n",
    "            data = doc.to_dict()\n",
    "            data['document_id'] = doc.id  # Add document ID for reference\n",
    "            locations_data.append(data)\n",
    "        \n",
    "        print(f\"Retrieved {len(locations_data)} location records\")\n",
    "        return locations_data\n",
    "    except Exception as e:\n",
    "        print(f\"Error retrieving data: {e}\")\n",
    "        return None"
   ]
  },
  {
   "cell_type": "code",
   "execution_count": 11,
   "id": "cfc67924",
   "metadata": {},
   "outputs": [],
   "source": [
    "import math\n",
    "\n",
    "def haversine_distance(lat1, lon1, lat2, lon2, radius=6371):\n",
    "    \"\"\"\n",
    "    Calculates the Haversine distance between two points on Earth.\n",
    "\n",
    "    Args:\n",
    "        lat1 (float): Latitude of the first point in degrees.\n",
    "        lon1 (float): Longitude of the first point in degrees.\n",
    "        lat2 (float): Latitude of the second point in degrees.\n",
    "        lon2 (float): Longitude of the second point in degrees.\n",
    "        radius (float): Radius of the Earth in kilometers (default is 6371 km).\n",
    "\n",
    "    Returns:\n",
    "        float: The distance between the two points in kilometers.\n",
    "    \"\"\"\n",
    "    # Convert latitudes and longitudes from degrees to radians\n",
    "    lat1_rad = math.radians(lat1)\n",
    "    lon1_rad = math.radians(lon1)\n",
    "    lat2_rad = math.radians(lat2)\n",
    "    lon2_rad = math.radians(lon2)\n",
    "\n",
    "    # Calculate the difference in latitudes and longitudes\n",
    "    dlat = lat2_rad - lat1_rad\n",
    "    dlon = lon2_rad - lon1_rad\n",
    "\n",
    "    # Haversine formula\n",
    "    a = math.sin(dlat / 2)**2 + math.cos(lat1_rad) * math.cos(lat2_rad) * math.sin(dlon / 2)**2\n",
    "    c = 2 * math.atan2(math.sqrt(a), math.sqrt(1 - a))\n",
    "\n",
    "    distance = radius * c * 1000\n",
    "    return distance\n",
    "\n"
   ]
  },
  {
   "cell_type": "code",
   "execution_count": 13,
   "id": "6d681173",
   "metadata": {},
   "outputs": [
    {
     "name": "stdout",
     "output_type": "stream",
     "text": [
      "Retrieved 3 location records\n",
      "\n",
      "Successfully connected! Found 3 location records.\n",
      "\n",
      "Sample data structure:\n",
      "  createdAt: 2025-09-24 23:58:21.735000+00:00\n",
      "  startTime: 2025-09-25T00:00:00.000Z\n",
      "  events: [{'location': {'accuracy': 23.11442339027511, 'longitude': -90.464876955105, 'latitude': 30.51039841855592, 'timestamp': '2025-09-24T23:58:03.528Z'}, 'type': 'created', 'by': 'a2', 'timestamp': '2025-09-24T23:58:21.332Z'}, {'location': {'accuracy': 24.50821576939994, 'longitude': -90.46457886676608, 'latitude': 30.510607101514616, 'timestamp': '2025-09-24T23:58:06.383Z'}, 'type': 'joined', 'by': 'e2', 'timestamp': '2025-09-24T23:58:38.926Z'}, {'audioUrl': 'https://firebasestorage.googleapis.com/v0/b/geolocation-app-b549e.firebasestorage.app/o/audio%2Fchurch_e2_2025-09-25_19%3A00.webm?alt=media&token=7a7849a6-d2fa-4072-b6e5-1d7f051d5803', 'type': 'recording_uploaded', 'duration': 15, 'by': 'e2', 'timestamp': '2025-09-25T00:00:26.105Z'}, {'audioUrl': 'https://firebasestorage.googleapis.com/v0/b/geolocation-app-b549e.firebasestorage.app/o/audio%2Fchurch_a2_2025-09-25_19%3A00.webm?alt=media&token=19f9cdd6-3549-4469-a930-71b09f923e4a', 'type': 'recording_uploaded', 'duration': 15, 'by': 'a2', 'timestamp': '2025-09-25T00:01:01.494Z'}]\n",
      "  participants: [{'audioUrl': 'https://firebasestorage.googleapis.com/v0/b/geolocation-app-b549e.firebasestorage.app/o/audio%2Fchurch_a2_2025-09-25_19%3A00.webm?alt=media&token=19f9cdd6-3549-4469-a930-71b09f923e4a', 'username': 'a2', 'location': {'accuracy': 4.426211769662174, 'longitude': -90.46474438085754, 'latitude': 30.51058955827175, 'timestamp': '9/24/2025, 6:58:42 PM'}, 'joinedAt': '2025-09-24T23:58:21.332Z', 'deviceName': 'iOS Device (Safari)'}, {'location': {'accuracy': 34.017938763806654, 'longitude': -90.46467347073583, 'latitude': 30.510445688278235, 'timestamp': '9/24/2025, 6:58:39 PM'}, 'username': 'e2', 'joinedAt': '2025-09-24T23:58:38.926Z', 'audioUrl': 'https://firebasestorage.googleapis.com/v0/b/geolocation-app-b549e.firebasestorage.app/o/audio%2Fchurch_e2_2025-09-25_19%3A00.webm?alt=media&token=7a7849a6-d2fa-4072-b6e5-1d7f051d5803', 'deviceName': 'iOS Device (Safari)'}]\n",
      "  status: active\n",
      "  name: Church\n",
      "  document_id: church\n"
     ]
    }
   ],
   "source": [
    "sessions_data = get_all_sessions()\n",
    "\n",
    "if sessions_data:\n",
    "    print(f\"\\nSuccessfully connected! Found {len(sessions_data)} location records.\")\n",
    "    print(\"\\nSample data structure:\")\n",
    "    if sessions_data:\n",
    "        sample = sessions_data[0]\n",
    "        for key, value in sample.items():\n",
    "            print(f\"  {key}: {value}\")\n",
    "else:\n",
    "    print(\"Failed to retrieve data. Please check your Firebase configuration.\")\n"
   ]
  },
  {
   "cell_type": "code",
   "execution_count": 14,
   "id": "528f652d",
   "metadata": {},
   "outputs": [
    {
     "data": {
      "text/plain": [
       "[{'createdAt': DatetimeWithNanoseconds(2025, 9, 24, 23, 58, 21, 735000, tzinfo=datetime.timezone.utc),\n",
       "  'startTime': '2025-09-25T00:00:00.000Z',\n",
       "  'events': [{'location': {'accuracy': 23.11442339027511,\n",
       "     'longitude': -90.464876955105,\n",
       "     'latitude': 30.51039841855592,\n",
       "     'timestamp': '2025-09-24T23:58:03.528Z'},\n",
       "    'type': 'created',\n",
       "    'by': 'a2',\n",
       "    'timestamp': '2025-09-24T23:58:21.332Z'},\n",
       "   {'location': {'accuracy': 24.50821576939994,\n",
       "     'longitude': -90.46457886676608,\n",
       "     'latitude': 30.510607101514616,\n",
       "     'timestamp': '2025-09-24T23:58:06.383Z'},\n",
       "    'type': 'joined',\n",
       "    'by': 'e2',\n",
       "    'timestamp': '2025-09-24T23:58:38.926Z'},\n",
       "   {'audioUrl': 'https://firebasestorage.googleapis.com/v0/b/geolocation-app-b549e.firebasestorage.app/o/audio%2Fchurch_e2_2025-09-25_19%3A00.webm?alt=media&token=7a7849a6-d2fa-4072-b6e5-1d7f051d5803',\n",
       "    'type': 'recording_uploaded',\n",
       "    'duration': 15,\n",
       "    'by': 'e2',\n",
       "    'timestamp': '2025-09-25T00:00:26.105Z'},\n",
       "   {'audioUrl': 'https://firebasestorage.googleapis.com/v0/b/geolocation-app-b549e.firebasestorage.app/o/audio%2Fchurch_a2_2025-09-25_19%3A00.webm?alt=media&token=19f9cdd6-3549-4469-a930-71b09f923e4a',\n",
       "    'type': 'recording_uploaded',\n",
       "    'duration': 15,\n",
       "    'by': 'a2',\n",
       "    'timestamp': '2025-09-25T00:01:01.494Z'}],\n",
       "  'participants': [{'audioUrl': 'https://firebasestorage.googleapis.com/v0/b/geolocation-app-b549e.firebasestorage.app/o/audio%2Fchurch_a2_2025-09-25_19%3A00.webm?alt=media&token=19f9cdd6-3549-4469-a930-71b09f923e4a',\n",
       "    'username': 'a2',\n",
       "    'location': {'accuracy': 4.426211769662174,\n",
       "     'longitude': -90.46474438085754,\n",
       "     'latitude': 30.51058955827175,\n",
       "     'timestamp': '9/24/2025, 6:58:42 PM'},\n",
       "    'joinedAt': '2025-09-24T23:58:21.332Z',\n",
       "    'deviceName': 'iOS Device (Safari)'},\n",
       "   {'location': {'accuracy': 34.017938763806654,\n",
       "     'longitude': -90.46467347073583,\n",
       "     'latitude': 30.510445688278235,\n",
       "     'timestamp': '9/24/2025, 6:58:39 PM'},\n",
       "    'username': 'e2',\n",
       "    'joinedAt': '2025-09-24T23:58:38.926Z',\n",
       "    'audioUrl': 'https://firebasestorage.googleapis.com/v0/b/geolocation-app-b549e.firebasestorage.app/o/audio%2Fchurch_e2_2025-09-25_19%3A00.webm?alt=media&token=7a7849a6-d2fa-4072-b6e5-1d7f051d5803',\n",
       "    'deviceName': 'iOS Device (Safari)'}],\n",
       "  'status': 'active',\n",
       "  'name': 'Church',\n",
       "  'document_id': 'church'},\n",
       " {'createdAt': DatetimeWithNanoseconds(2025, 9, 24, 20, 57, 23, 82000, tzinfo=datetime.timezone.utc),\n",
       "  'startTime': '2025-09-24T20:58:00.000Z',\n",
       "  'events': [{'location': {'accuracy': 1070.9677895959417,\n",
       "     'longitude': -90.4757248,\n",
       "     'latitude': 30.5135616,\n",
       "     'timestamp': '2025-09-24T20:57:22.233Z'},\n",
       "    'type': 'created',\n",
       "    'by': 's1',\n",
       "    'timestamp': '2025-09-24T20:57:22.911Z'},\n",
       "   {'location': {'accuracy': 1070.9677895959417,\n",
       "     'longitude': -90.4757248,\n",
       "     'latitude': 30.5135616,\n",
       "     'timestamp': '2025-09-24T20:57:41.914Z'},\n",
       "    'type': 'joined',\n",
       "    'by': 's2',\n",
       "    'timestamp': '2025-09-24T20:57:42.610Z'},\n",
       "   {'audioUrl': 'https://firebasestorage.googleapis.com/v0/b/geolocation-app-b549e.firebasestorage.app/o/audio%2Ft1_s2_2025-09-24_15%3A58.wav?alt=media&token=66633e9f-c7af-4cac-8931-7605375b32f8',\n",
       "    'type': 'recording_uploaded',\n",
       "    'duration': 15,\n",
       "    'by': 's2',\n",
       "    'timestamp': '2025-09-24T20:58:23.932Z'},\n",
       "   {'audioUrl': 'https://firebasestorage.googleapis.com/v0/b/geolocation-app-b549e.firebasestorage.app/o/audio%2Ft1_s1_2025-09-24_15%3A58.wav?alt=media&token=4d757c34-a485-40e6-82e8-30cd0da5e872',\n",
       "    'type': 'recording_uploaded',\n",
       "    'duration': 15,\n",
       "    'by': 's1',\n",
       "    'timestamp': '2025-09-24T20:58:25.923Z'}],\n",
       "  'participants': [{'joinedAt': '2025-09-24T20:57:22.911Z',\n",
       "    'username': 's1',\n",
       "    'location': {'accuracy': 1070.9677895959417,\n",
       "     'longitude': -90.4757248,\n",
       "     'latitude': 30.5135616,\n",
       "     'timestamp': '24/09/2025, 15:57:23'},\n",
       "    'audioUrl': 'https://firebasestorage.googleapis.com/v0/b/geolocation-app-b549e.firebasestorage.app/o/audio%2Ft1_s1_2025-09-24_15%3A58.wav?alt=media&token=4d757c34-a485-40e6-82e8-30cd0da5e872',\n",
       "    'deviceName': 'Windows PC (Chrome)'},\n",
       "   {'audioUrl': 'https://firebasestorage.googleapis.com/v0/b/geolocation-app-b549e.firebasestorage.app/o/audio%2Ft1_s2_2025-09-24_15%3A58.wav?alt=media&token=66633e9f-c7af-4cac-8931-7605375b32f8',\n",
       "    'username': 's2',\n",
       "    'location': {'accuracy': 1070.9677895959417,\n",
       "     'longitude': -90.4757248,\n",
       "     'latitude': 30.5135616,\n",
       "     'timestamp': '24/09/2025, 15:57:43'},\n",
       "    'joinedAt': '2025-09-24T20:57:42.610Z',\n",
       "    'deviceName': 'Windows PC (Chrome)'}],\n",
       "  'status': 'active',\n",
       "  'name': 't1',\n",
       "  'document_id': 't1'},\n",
       " {'createdAt': DatetimeWithNanoseconds(2025, 9, 24, 21, 50, 39, 464000, tzinfo=datetime.timezone.utc),\n",
       "  'startTime': '2025-09-24T21:51:00.000Z',\n",
       "  'events': [{'location': {'accuracy': 13.832017234662917,\n",
       "     'longitude': -90.47518116488018,\n",
       "     'latitude': 30.507719739718038,\n",
       "     'timestamp': '2025-09-24T21:50:05.590Z'},\n",
       "    'type': 'created',\n",
       "    'by': 'a1',\n",
       "    'timestamp': '2025-09-24T21:50:39.034Z'},\n",
       "   {'location': {'accuracy': 21.58982967129276,\n",
       "     'longitude': -90.47527471150204,\n",
       "     'latitude': 30.507725226830775,\n",
       "     'timestamp': '2025-09-24T21:48:27.154Z'},\n",
       "    'type': 'joined',\n",
       "    'by': 's1',\n",
       "    'timestamp': '2025-09-24T21:50:43.062Z'},\n",
       "   {'location': {'accuracy': 15.926353508699373,\n",
       "     'longitude': -90.47529424343251,\n",
       "     'latitude': 30.507726757758395,\n",
       "     'timestamp': '2025-09-24T21:48:21.798Z'},\n",
       "    'type': 'joined',\n",
       "    'by': 'e1',\n",
       "    'timestamp': '2025-09-24T21:50:43.817Z'},\n",
       "   {'location': None,\n",
       "    'type': 'left',\n",
       "    'by': 's1',\n",
       "    'timestamp': '2025-09-24T21:50:53.003Z'},\n",
       "   {'location': {'accuracy': 53.99983685963427,\n",
       "     'longitude': -90.4757455300012,\n",
       "     'latitude': 30.507767913099674,\n",
       "     'timestamp': '2025-09-24T21:50:43.553Z'},\n",
       "    'type': 'joined',\n",
       "    'by': 's1',\n",
       "    'timestamp': '2025-09-24T21:50:56.993Z'},\n",
       "   {'audioUrl': 'https://firebasestorage.googleapis.com/v0/b/geolocation-app-b549e.firebasestorage.app/o/audio%2Ft11_s1_2025-09-24_16%3A51.wav?alt=media&token=e5729d00-7b57-4f00-8435-1a609adccbe1',\n",
       "    'type': 'recording_uploaded',\n",
       "    'duration': 15,\n",
       "    'by': 's1',\n",
       "    'timestamp': '2025-09-24T21:51:21.803Z'},\n",
       "   {'audioUrl': 'https://firebasestorage.googleapis.com/v0/b/geolocation-app-b549e.firebasestorage.app/o/audio%2Ft11_a1_2025-09-24_16%3A51.wav?alt=media&token=dd595e2e-dbb0-47c9-865d-69f359e0c5b7',\n",
       "    'type': 'recording_uploaded',\n",
       "    'duration': 15,\n",
       "    'by': 'a1',\n",
       "    'timestamp': '2025-09-24T21:51:28.469Z'},\n",
       "   {'audioUrl': 'https://firebasestorage.googleapis.com/v0/b/geolocation-app-b549e.firebasestorage.app/o/audio%2Ft11_e1_2025-09-24_16%3A51.wav?alt=media&token=e6500907-7b3d-49a8-a2cf-382dffbb7f9e',\n",
       "    'type': 'recording_uploaded',\n",
       "    'duration': 15,\n",
       "    'by': 'e1',\n",
       "    'timestamp': '2025-09-24T21:51:28.897Z'}],\n",
       "  'participants': [{'joinedAt': '2025-09-24T21:50:39.034Z',\n",
       "    'username': 'a1',\n",
       "    'location': {'accuracy': 15.77677860757907,\n",
       "     'longitude': -90.47520515465978,\n",
       "     'latitude': 30.507713440720174,\n",
       "     'timestamp': '9/24/2025, 4:50:41 PM'},\n",
       "    'audioUrl': 'https://firebasestorage.googleapis.com/v0/b/geolocation-app-b549e.firebasestorage.app/o/audio%2Ft11_a1_2025-09-24_16%3A51.wav?alt=media&token=dd595e2e-dbb0-47c9-865d-69f359e0c5b7',\n",
       "    'deviceName': 'iOS Device (Safari)'},\n",
       "   {'audioUrl': 'https://firebasestorage.googleapis.com/v0/b/geolocation-app-b549e.firebasestorage.app/o/audio%2Ft11_e1_2025-09-24_16%3A51.wav?alt=media&token=e6500907-7b3d-49a8-a2cf-382dffbb7f9e',\n",
       "    'username': 'e1',\n",
       "    'location': {'accuracy': 18.684196323878215,\n",
       "     'longitude': -90.47529367459681,\n",
       "     'latitude': 30.5077266395066,\n",
       "     'timestamp': '9/24/2025, 4:50:44 PM'},\n",
       "    'joinedAt': '2025-09-24T21:50:43.817Z',\n",
       "    'deviceName': 'iOS Device (Safari)'},\n",
       "   {'location': {'accuracy': 53.99983685963427,\n",
       "     'longitude': -90.4757455300012,\n",
       "     'latitude': 30.507767913099674,\n",
       "     'timestamp': '2025-09-24, 4:50:43 PM'},\n",
       "    'username': 's1',\n",
       "    'joinedAt': '2025-09-24T21:50:56.993Z',\n",
       "    'audioUrl': 'https://firebasestorage.googleapis.com/v0/b/geolocation-app-b549e.firebasestorage.app/o/audio%2Ft11_s1_2025-09-24_16%3A51.wav?alt=media&token=e5729d00-7b57-4f00-8435-1a609adccbe1',\n",
       "    'deviceName': 'iOS Device (Browser)'}],\n",
       "  'status': 'active',\n",
       "  'name': 't11',\n",
       "  'document_id': 't11'}]"
      ]
     },
     "execution_count": 14,
     "metadata": {},
     "output_type": "execute_result"
    }
   ],
   "source": [
    "sessions_data"
   ]
  },
  {
   "cell_type": "code",
   "execution_count": 15,
   "id": "d90e6cf9-9ddc-4b8e-b220-f78a99f2b16b",
   "metadata": {},
   "outputs": [
    {
     "data": {
      "text/plain": [
       "{'createdAt': DatetimeWithNanoseconds(2025, 9, 24, 23, 58, 21, 735000, tzinfo=datetime.timezone.utc),\n",
       " 'startTime': '2025-09-25T00:00:00.000Z',\n",
       " 'events': [{'location': {'accuracy': 23.11442339027511,\n",
       "    'longitude': -90.464876955105,\n",
       "    'latitude': 30.51039841855592,\n",
       "    'timestamp': '2025-09-24T23:58:03.528Z'},\n",
       "   'type': 'created',\n",
       "   'by': 'a2',\n",
       "   'timestamp': '2025-09-24T23:58:21.332Z'},\n",
       "  {'location': {'accuracy': 24.50821576939994,\n",
       "    'longitude': -90.46457886676608,\n",
       "    'latitude': 30.510607101514616,\n",
       "    'timestamp': '2025-09-24T23:58:06.383Z'},\n",
       "   'type': 'joined',\n",
       "   'by': 'e2',\n",
       "   'timestamp': '2025-09-24T23:58:38.926Z'},\n",
       "  {'audioUrl': 'https://firebasestorage.googleapis.com/v0/b/geolocation-app-b549e.firebasestorage.app/o/audio%2Fchurch_e2_2025-09-25_19%3A00.webm?alt=media&token=7a7849a6-d2fa-4072-b6e5-1d7f051d5803',\n",
       "   'type': 'recording_uploaded',\n",
       "   'duration': 15,\n",
       "   'by': 'e2',\n",
       "   'timestamp': '2025-09-25T00:00:26.105Z'},\n",
       "  {'audioUrl': 'https://firebasestorage.googleapis.com/v0/b/geolocation-app-b549e.firebasestorage.app/o/audio%2Fchurch_a2_2025-09-25_19%3A00.webm?alt=media&token=19f9cdd6-3549-4469-a930-71b09f923e4a',\n",
       "   'type': 'recording_uploaded',\n",
       "   'duration': 15,\n",
       "   'by': 'a2',\n",
       "   'timestamp': '2025-09-25T00:01:01.494Z'}],\n",
       " 'participants': [{'audioUrl': 'https://firebasestorage.googleapis.com/v0/b/geolocation-app-b549e.firebasestorage.app/o/audio%2Fchurch_a2_2025-09-25_19%3A00.webm?alt=media&token=19f9cdd6-3549-4469-a930-71b09f923e4a',\n",
       "   'username': 'a2',\n",
       "   'location': {'accuracy': 4.426211769662174,\n",
       "    'longitude': -90.46474438085754,\n",
       "    'latitude': 30.51058955827175,\n",
       "    'timestamp': '9/24/2025, 6:58:42 PM'},\n",
       "   'joinedAt': '2025-09-24T23:58:21.332Z',\n",
       "   'deviceName': 'iOS Device (Safari)'},\n",
       "  {'location': {'accuracy': 34.017938763806654,\n",
       "    'longitude': -90.46467347073583,\n",
       "    'latitude': 30.510445688278235,\n",
       "    'timestamp': '9/24/2025, 6:58:39 PM'},\n",
       "   'username': 'e2',\n",
       "   'joinedAt': '2025-09-24T23:58:38.926Z',\n",
       "   'audioUrl': 'https://firebasestorage.googleapis.com/v0/b/geolocation-app-b549e.firebasestorage.app/o/audio%2Fchurch_e2_2025-09-25_19%3A00.webm?alt=media&token=7a7849a6-d2fa-4072-b6e5-1d7f051d5803',\n",
       "   'deviceName': 'iOS Device (Safari)'}],\n",
       " 'status': 'active',\n",
       " 'name': 'Church',\n",
       " 'document_id': 'church'}"
      ]
     },
     "execution_count": 15,
     "metadata": {},
     "output_type": "execute_result"
    }
   ],
   "source": [
    "sessions_data[0]"
   ]
  },
  {
   "cell_type": "code",
   "execution_count": 16,
   "id": "99f3ed4b",
   "metadata": {},
   "outputs": [],
   "source": [
    "# lat_s, lon_s = locations_data[0]['latitude'], locations_data[0]['longitude']\n",
    "# lat_e, lon_e = locations_data[2]['latitude'], locations_data[2]['longitude']\n",
    "\n",
    "# distance = haversine_distance(lat_s, lon_s, lat_e, lon_e)\n",
    "# print(f\"Distance between {locations_data[0]['username']} and {locations_data[2]['username']}: {distance:.2f} m\")\n"
   ]
  },
  {
   "cell_type": "code",
   "execution_count": 17,
   "id": "ee014a27-c7a8-4c5f-83ec-8561f73dac3f",
   "metadata": {},
   "outputs": [
    {
     "data": {
      "text/plain": [
       "'https://firebasestorage.googleapis.com/v0/b/geolocation-app-b549e.firebasestorage.app/o/audio%2Fchurch_a2_2025-09-25_19%3A00.webm?alt=media&token=19f9cdd6-3549-4469-a930-71b09f923e4a'"
      ]
     },
     "execution_count": 17,
     "metadata": {},
     "output_type": "execute_result"
    }
   ],
   "source": [
    "sessions_data[0]['participants'][0]['audioUrl']"
   ]
  },
  {
   "cell_type": "code",
   "execution_count": 18,
   "id": "30f1221b-c0b9-4bbe-84b3-660c2a6595ed",
   "metadata": {},
   "outputs": [],
   "source": [
    "import librosa\n",
    "import io"
   ]
  },
  {
   "cell_type": "code",
   "execution_count": 21,
   "id": "7c86ec58",
   "metadata": {},
   "outputs": [
    {
     "data": {
      "text/plain": [
       "'\\nimport requests\\npar_session = sessions_data[2][\\'participants\\'] \\nfor i in range(len(par_session)):\\n    try:\\n        print(i)\\n        audio = par_session[i][\\'audioUrl\\']\\n        response = requests.get(audio)\\n        print(\\'----\\')\\n        audio_data = response.content\\n        print(audio_data)\\n        audio_io = io.BytesIO(audio_data)\\n        print(\\'===\\')\\n        y, sr = librosa.load(audio_io, sr=None)\\n        print(\\'+++\\')\\n        print(y, sr)\\n        break\\n        # with open(f\\'audio_{par_session[i][\"username\"]}.webm\\', \\'wb\\') as f:\\n        #     f.write(response.content)\\n    except Exception as e:\\n        print(f\"Error downloading audio for {par_session[i][\\'username\\']}: {e}\")\\n'"
      ]
     },
     "execution_count": 21,
     "metadata": {},
     "output_type": "execute_result"
    }
   ],
   "source": [
    "'''\n",
    "import requests\n",
    "par_session = sessions_data[2]['participants'] \n",
    "for i in range(len(par_session)):\n",
    "    try:\n",
    "        print(i)\n",
    "        audio = par_session[i]['audioUrl']\n",
    "        response = requests.get(audio)\n",
    "        print('----')\n",
    "        audio_data = response.content\n",
    "        print(audio_data)\n",
    "        audio_io = io.BytesIO(audio_data)\n",
    "        print('===')\n",
    "        y, sr = librosa.load(audio_io, sr=None)\n",
    "        print('+++')\n",
    "        print(y, sr)\n",
    "        break\n",
    "        # with open(f'audio_{par_session[i][\"username\"]}.webm', 'wb') as f:\n",
    "        #     f.write(response.content)\n",
    "    except Exception as e:\n",
    "        print(f\"Error downloading audio for {par_session[i]['username']}: {e}\")\n",
    "'''\n"
   ]
  },
  {
   "cell_type": "markdown",
   "id": "f2312996-fafa-4454-b774-83cb5b47fec1",
   "metadata": {},
   "source": [
    "# "
   ]
  }
 ],
 "metadata": {
  "kernelspec": {
   "display_name": "Python 3 (ipykernel)",
   "language": "python",
   "name": "python3"
  },
  "language_info": {
   "codemirror_mode": {
    "name": "ipython",
    "version": 3
   },
   "file_extension": ".py",
   "mimetype": "text/x-python",
   "name": "python",
   "nbconvert_exporter": "python",
   "pygments_lexer": "ipython3",
   "version": "3.13.7"
  }
 },
 "nbformat": 4,
 "nbformat_minor": 5
}
